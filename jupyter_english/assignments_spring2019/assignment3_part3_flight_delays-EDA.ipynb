{
 "cells": [
  {
   "cell_type": "markdown",
   "metadata": {
    "_uuid": "90e3a2685594cc6aae3914d3d519be153b050d78"
   },
   "source": [
    "<center>\n",
    "<img src=\"../../img/ods_stickers.jpg\" />\n",
    "</center> \n",
    "     \n",
    "## <center>  [mlcourse.ai](https://mlcourse.ai) – Open Machine Learning Course \n",
    "\n",
    "#### <center> Author: [Yury Kashnitskiy](https://yorko.github.io) (@yorko) \n",
    "\n",
    "# <center>Assignment #3. Spring 2019\n",
    "## <center> Part 3. Gradient boosting"
   ]
  },
  {
   "cell_type": "markdown",
   "metadata": {
    "_uuid": "1cc3855272f09bf4b32a22bcf317d7ea22564706"
   },
   "source": [
    "**In this assignment, you're asked to beat a baseline in the [\"Flight delays\" competition](https://www.kaggle.com/c/flight-delays-fall-2018).**\n",
    "\n",
    "Prior to working on the assignment, you'd better check out the corresponding course material:\n",
    " 1. [Classification, Decision Trees and k Nearest Neighbors](https://nbviewer.jupyter.org/github/Yorko/mlcourse_open/blob/master/jupyter_english/topic03_decision_trees_kNN/topic3_decision_trees_kNN.ipynb?flush_cache=true), the same as an interactive web-based [Kaggle Kernel](https://www.kaggle.com/kashnitsky/topic-3-decision-trees-and-knn) \n",
    " 2. Ensembles:\n",
    "  - [Bagging](https://nbviewer.jupyter.org/github/Yorko/mlcourse_open/blob/master/jupyter_english/topic05_ensembles_random_forests/topic5_part1_bagging.ipynb?flush_cache=true), the same as a [Kaggle Kernel](https://www.kaggle.com/kashnitsky/topic-5-ensembles-part-1-bagging)\n",
    "  - [Random Forest](https://nbviewer.jupyter.org/github/Yorko/mlcourse_open/blob/master/jupyter_english/topic05_ensembles_random_forests/topic5_part2_random_forest.ipynb?flush_cache=true), the same as a [Kaggle Kernel](https://www.kaggle.com/kashnitsky/topic-5-ensembles-part-2-random-forest)\n",
    "  - [Feature Importance](https://nbviewer.jupyter.org/github/Yorko/mlcourse_open/blob/master/jupyter_english/topic05_ensembles_random_forests/topic5_part3_feature_importance.ipynb?flush_cache=true), the same as a [Kaggle Kernel](https://www.kaggle.com/kashnitsky/topic-5-ensembles-part-3-feature-importance)\n",
    " 3. - [Gradient boosting](https://nbviewer.jupyter.org/github/Yorko/mlcourse_open/blob/master/jupyter_english/topic10_boosting/topic10_gradient_boosting.ipynb?flush_cache=true), the same as a [Kaggle Kernel](https://www.kaggle.com/kashnitsky/topic-10-gradient-boosting) \n",
    "   - Logistic regression, Random Forest, and LightGBM in the \"Kaggle Forest Cover Type Prediction\" competition: [Kernel](https://www.kaggle.com/kashnitsky/topic-10-practice-with-logit-rf-and-lightgbm) \n",
    " 4. You can also practice with demo assignments, which are simpler and already shared with solutions:\n",
    "  - \"Decision trees with a toy task and the UCI Adult dataset\": [assignment](https://www.kaggle.com/kashnitsky/a3-demo-decision-trees) + [solution](https://www.kaggle.com/kashnitsky/a3-demo-decision-trees-solution)\n",
    "  - \"Logistic Regression and Random Forest in the credit scoring problem\": [assignment](https://www.kaggle.com/kashnitsky/assignment-5-logit-and-rf-for-credit-scoring) + [solution](https://www.kaggle.com/kashnitsky/a5-demo-logit-and-rf-for-credit-scoring-sol)\n",
    " 5. There are also 7 video lectures on trees, forests, boosting and their applications: [mlcourse.ai/video](https://mlcourse.ai/video) \n",
    "\n",
    "### Your task is to:\n",
    " 1. beat **\"A3 baseline (8 credits)\"** on Public LB (**0.73449** LB score)\n",
    " 2. rename your [team](https://www.kaggle.com/c/flight-delays-fall-2018/team) in full accordance with the course rating\n",
    " \n",
    " This task is intended to be relatively easy. Here you are not required to upload your reproducible solution.\n",
    " \n",
    "### <center> Deadline for A3: 2019 March 31, 20:59 GMT (London time)"
   ]
  },
  {
   "cell_type": "code",
   "execution_count": 1,
   "metadata": {
    "_uuid": "b486c4beb6f64fbeb70610a0e5ed7145256605e1"
   },
   "outputs": [],
   "source": [
    "import warnings\n",
    "warnings.filterwarnings('ignore')\n",
    "import numpy as np\n",
    "import pandas as pd\n",
    "from sklearn.preprocessing import StandardScaler\n",
    "from sklearn.pipeline import Pipeline\n",
    "from sklearn.model_selection import train_test_split, StratifiedKFold, GridSearchCV\n",
    "from sklearn.linear_model import LogisticRegression\n",
    "from sklearn.metrics import roc_auc_score\n",
    "import seaborn as sns\n",
    "from catboost import CatBoostClassifier"
   ]
  },
  {
   "cell_type": "code",
   "execution_count": 2,
   "metadata": {},
   "outputs": [],
   "source": [
    "import lightgbm as lgb"
   ]
  },
  {
   "cell_type": "markdown",
   "metadata": {},
   "source": [
    "Download data from the [competition page](https://www.kaggle.com/c/flight-delays-fall-2018/data) and change paths if needed."
   ]
  },
  {
   "cell_type": "code",
   "execution_count": 3,
   "metadata": {
    "_uuid": "2e7833f60e9392ba0526aec5b68ea8587ce90274"
   },
   "outputs": [],
   "source": [
    "train_df = pd.read_csv('../../data/flight_delays_train.csv')\n",
    "test_df = pd.read_csv('../../data/flight_delays_test.csv')"
   ]
  },
  {
   "cell_type": "code",
   "execution_count": 4,
   "metadata": {
    "_uuid": "c02aa9ea53a2733cd5683bd10beed2b561acf7bb"
   },
   "outputs": [
    {
     "data": {
      "text/html": [
       "<div>\n",
       "<style scoped>\n",
       "    .dataframe tbody tr th:only-of-type {\n",
       "        vertical-align: middle;\n",
       "    }\n",
       "\n",
       "    .dataframe tbody tr th {\n",
       "        vertical-align: top;\n",
       "    }\n",
       "\n",
       "    .dataframe thead th {\n",
       "        text-align: right;\n",
       "    }\n",
       "</style>\n",
       "<table border=\"1\" class=\"dataframe\">\n",
       "  <thead>\n",
       "    <tr style=\"text-align: right;\">\n",
       "      <th></th>\n",
       "      <th>Month</th>\n",
       "      <th>DayofMonth</th>\n",
       "      <th>DayOfWeek</th>\n",
       "      <th>DepTime</th>\n",
       "      <th>UniqueCarrier</th>\n",
       "      <th>Origin</th>\n",
       "      <th>Dest</th>\n",
       "      <th>Distance</th>\n",
       "      <th>dep_delayed_15min</th>\n",
       "    </tr>\n",
       "  </thead>\n",
       "  <tbody>\n",
       "    <tr>\n",
       "      <th>0</th>\n",
       "      <td>c-8</td>\n",
       "      <td>c-21</td>\n",
       "      <td>c-7</td>\n",
       "      <td>1934</td>\n",
       "      <td>AA</td>\n",
       "      <td>ATL</td>\n",
       "      <td>DFW</td>\n",
       "      <td>732</td>\n",
       "      <td>N</td>\n",
       "    </tr>\n",
       "    <tr>\n",
       "      <th>1</th>\n",
       "      <td>c-4</td>\n",
       "      <td>c-20</td>\n",
       "      <td>c-3</td>\n",
       "      <td>1548</td>\n",
       "      <td>US</td>\n",
       "      <td>PIT</td>\n",
       "      <td>MCO</td>\n",
       "      <td>834</td>\n",
       "      <td>N</td>\n",
       "    </tr>\n",
       "    <tr>\n",
       "      <th>2</th>\n",
       "      <td>c-9</td>\n",
       "      <td>c-2</td>\n",
       "      <td>c-5</td>\n",
       "      <td>1422</td>\n",
       "      <td>XE</td>\n",
       "      <td>RDU</td>\n",
       "      <td>CLE</td>\n",
       "      <td>416</td>\n",
       "      <td>N</td>\n",
       "    </tr>\n",
       "    <tr>\n",
       "      <th>3</th>\n",
       "      <td>c-11</td>\n",
       "      <td>c-25</td>\n",
       "      <td>c-6</td>\n",
       "      <td>1015</td>\n",
       "      <td>OO</td>\n",
       "      <td>DEN</td>\n",
       "      <td>MEM</td>\n",
       "      <td>872</td>\n",
       "      <td>N</td>\n",
       "    </tr>\n",
       "    <tr>\n",
       "      <th>4</th>\n",
       "      <td>c-10</td>\n",
       "      <td>c-7</td>\n",
       "      <td>c-6</td>\n",
       "      <td>1828</td>\n",
       "      <td>WN</td>\n",
       "      <td>MDW</td>\n",
       "      <td>OMA</td>\n",
       "      <td>423</td>\n",
       "      <td>Y</td>\n",
       "    </tr>\n",
       "  </tbody>\n",
       "</table>\n",
       "</div>"
      ],
      "text/plain": [
       "  Month DayofMonth DayOfWeek  DepTime UniqueCarrier Origin Dest  Distance  \\\n",
       "0   c-8       c-21       c-7     1934            AA    ATL  DFW       732   \n",
       "1   c-4       c-20       c-3     1548            US    PIT  MCO       834   \n",
       "2   c-9        c-2       c-5     1422            XE    RDU  CLE       416   \n",
       "3  c-11       c-25       c-6     1015            OO    DEN  MEM       872   \n",
       "4  c-10        c-7       c-6     1828            WN    MDW  OMA       423   \n",
       "\n",
       "  dep_delayed_15min  \n",
       "0                 N  \n",
       "1                 N  \n",
       "2                 N  \n",
       "3                 N  \n",
       "4                 Y  "
      ]
     },
     "execution_count": 4,
     "metadata": {},
     "output_type": "execute_result"
    }
   ],
   "source": [
    "train_df.head()"
   ]
  },
  {
   "cell_type": "code",
   "execution_count": 5,
   "metadata": {
    "_uuid": "4a0f1e18cc9b10cfd4f098183511f21722e61752"
   },
   "outputs": [
    {
     "data": {
      "text/html": [
       "<div>\n",
       "<style scoped>\n",
       "    .dataframe tbody tr th:only-of-type {\n",
       "        vertical-align: middle;\n",
       "    }\n",
       "\n",
       "    .dataframe tbody tr th {\n",
       "        vertical-align: top;\n",
       "    }\n",
       "\n",
       "    .dataframe thead th {\n",
       "        text-align: right;\n",
       "    }\n",
       "</style>\n",
       "<table border=\"1\" class=\"dataframe\">\n",
       "  <thead>\n",
       "    <tr style=\"text-align: right;\">\n",
       "      <th></th>\n",
       "      <th>Month</th>\n",
       "      <th>DayofMonth</th>\n",
       "      <th>DayOfWeek</th>\n",
       "      <th>DepTime</th>\n",
       "      <th>UniqueCarrier</th>\n",
       "      <th>Origin</th>\n",
       "      <th>Dest</th>\n",
       "      <th>Distance</th>\n",
       "    </tr>\n",
       "  </thead>\n",
       "  <tbody>\n",
       "    <tr>\n",
       "      <th>0</th>\n",
       "      <td>c-7</td>\n",
       "      <td>c-25</td>\n",
       "      <td>c-3</td>\n",
       "      <td>615</td>\n",
       "      <td>YV</td>\n",
       "      <td>MRY</td>\n",
       "      <td>PHX</td>\n",
       "      <td>598</td>\n",
       "    </tr>\n",
       "    <tr>\n",
       "      <th>1</th>\n",
       "      <td>c-4</td>\n",
       "      <td>c-17</td>\n",
       "      <td>c-2</td>\n",
       "      <td>739</td>\n",
       "      <td>WN</td>\n",
       "      <td>LAS</td>\n",
       "      <td>HOU</td>\n",
       "      <td>1235</td>\n",
       "    </tr>\n",
       "    <tr>\n",
       "      <th>2</th>\n",
       "      <td>c-12</td>\n",
       "      <td>c-2</td>\n",
       "      <td>c-7</td>\n",
       "      <td>651</td>\n",
       "      <td>MQ</td>\n",
       "      <td>GSP</td>\n",
       "      <td>ORD</td>\n",
       "      <td>577</td>\n",
       "    </tr>\n",
       "    <tr>\n",
       "      <th>3</th>\n",
       "      <td>c-3</td>\n",
       "      <td>c-25</td>\n",
       "      <td>c-7</td>\n",
       "      <td>1614</td>\n",
       "      <td>WN</td>\n",
       "      <td>BWI</td>\n",
       "      <td>MHT</td>\n",
       "      <td>377</td>\n",
       "    </tr>\n",
       "    <tr>\n",
       "      <th>4</th>\n",
       "      <td>c-6</td>\n",
       "      <td>c-6</td>\n",
       "      <td>c-3</td>\n",
       "      <td>1505</td>\n",
       "      <td>UA</td>\n",
       "      <td>ORD</td>\n",
       "      <td>STL</td>\n",
       "      <td>258</td>\n",
       "    </tr>\n",
       "  </tbody>\n",
       "</table>\n",
       "</div>"
      ],
      "text/plain": [
       "  Month DayofMonth DayOfWeek  DepTime UniqueCarrier Origin Dest  Distance\n",
       "0   c-7       c-25       c-3      615            YV    MRY  PHX       598\n",
       "1   c-4       c-17       c-2      739            WN    LAS  HOU      1235\n",
       "2  c-12        c-2       c-7      651            MQ    GSP  ORD       577\n",
       "3   c-3       c-25       c-7     1614            WN    BWI  MHT       377\n",
       "4   c-6        c-6       c-3     1505            UA    ORD  STL       258"
      ]
     },
     "execution_count": 5,
     "metadata": {},
     "output_type": "execute_result"
    }
   ],
   "source": [
    "test_df.head()"
   ]
  },
  {
   "cell_type": "markdown",
   "metadata": {
    "_uuid": "ce71f38fec3d94108609ef0cae861010ab0e8ca6"
   },
   "source": [
    "Given flight departure time, carrier's code, departure airport, destination location, and flight distance, you have to predict departure delay for more than 15 minutes. As the simplest benchmark, let's take logistic regression and two features that are easiest to take: DepTime and Distance. This will correspond to **\"simple logit baseline\"** on Public LB."
   ]
  },
  {
   "cell_type": "code",
   "execution_count": 6,
   "metadata": {
    "_uuid": "5bac98797b2bfb23851d735ec3761fc0e1401e61"
   },
   "outputs": [],
   "source": [
    "X_train = train_df[['Distance', 'DepTime']].values \n",
    "y_train = train_df['dep_delayed_15min'].map({'Y': 1, 'N': 0}).values\n",
    "X_test = test_df[['Distance', 'DepTime']].values\n",
    "\n",
    "X_train_part, X_valid, y_train_part, y_valid = \\\n",
    "    train_test_split(X_train, y_train, \n",
    "                     test_size=0.3, random_state=17)"
   ]
  },
  {
   "cell_type": "code",
   "execution_count": 7,
   "metadata": {
    "_uuid": "6e99742ad807b66899de68241b60cf8310fb306c"
   },
   "outputs": [],
   "source": [
    "logit_pipe = Pipeline([('scaler', StandardScaler()),\n",
    "                       ('logit', LogisticRegression(C=1, random_state=17, solver='liblinear'))])"
   ]
  },
  {
   "cell_type": "code",
   "execution_count": 8,
   "metadata": {
    "_uuid": "309be359915c00cbad41384a08926ddf25d47c7b"
   },
   "outputs": [
    {
     "data": {
      "text/plain": [
       "0.6795691465352607"
      ]
     },
     "execution_count": 8,
     "metadata": {},
     "output_type": "execute_result"
    }
   ],
   "source": [
    "logit_pipe.fit(X_train_part, y_train_part)\n",
    "logit_valid_pred = logit_pipe.predict_proba(X_valid)[:, 1]\n",
    "\n",
    "roc_auc_score(y_valid, logit_valid_pred)"
   ]
  },
  {
   "cell_type": "code",
   "execution_count": 9,
   "metadata": {
    "_uuid": "082bfede543f62192c55146294cdb23b3b898c90"
   },
   "outputs": [],
   "source": [
    "logit_pipe.fit(X_train, y_train)\n",
    "logit_test_pred = logit_pipe.predict_proba(X_test)[:, 1]\n",
    "\n",
    "pd.Series(logit_test_pred, \n",
    "          name='dep_delayed_15min').to_csv('logit_2feat.csv', \n",
    "                                           index_label='id', header=True)  # 0.68202"
   ]
  },
  {
   "cell_type": "markdown",
   "metadata": {
    "_uuid": "efd64f65bd3ac9d7fd279513a8cf49e7f2cb7ac0"
   },
   "source": [
    "Now you have to beat **\"A3 baseline (8 credits)\"** on Public LB. It's not challenging at all. Go for LightGBM, maybe some other models (or ensembling) as well. Include categorical features, do some simple feature engineering as well. Good luck!"
   ]
  },
  {
   "cell_type": "code",
   "execution_count": 80,
   "metadata": {},
   "outputs": [],
   "source": [
    "# Import libraries and set desired options\n",
    "import os\n",
    "import pickle\n",
    "import numpy as np\n",
    "import pandas as pd\n",
    "from scipy.sparse import hstack\n",
    "# !pip install eli5\n",
    "import eli5\n",
    "from sklearn.feature_extraction.text import TfidfVectorizer\n",
    "from sklearn.preprocessing import StandardScaler\n",
    "from sklearn.model_selection import TimeSeriesSplit, cross_val_score, GridSearchCV\n",
    "from sklearn.metrics import roc_auc_score\n",
    "from sklearn.linear_model import LogisticRegression\n",
    "from matplotlib import pyplot as plt\n",
    "import seaborn as sns\n",
    "from IPython.display import display_html"
   ]
  },
  {
   "cell_type": "markdown",
   "metadata": {},
   "source": [
    "# Ideas"
   ]
  },
  {
   "cell_type": "code",
   "execution_count": 88,
   "metadata": {},
   "outputs": [],
   "source": [
    "train_df = pd.read_csv('../../data/flight_delays_train.csv')\n",
    "test_df = pd.read_csv('../../data/flight_delays_test.csv')"
   ]
  },
  {
   "cell_type": "code",
   "execution_count": 84,
   "metadata": {},
   "outputs": [],
   "source": [
    "# extract hour and minute and remove deptime\n",
    "\n",
    "def extraction_hour(a):\n",
    "    size = len(str(a))\n",
    "    if(a >= 2400):\n",
    "        return 0 # we assume that over 24:00h, it is an outlier and it is replaced by 24h\n",
    "    if size == 4: \n",
    "        return int(str(a)[:2])\n",
    "    elif(size == 3):\n",
    "        return int(str(a)[:1])\n",
    "    else:\n",
    "        return 0\n",
    "    \n",
    "def extraction_minutes(a):\n",
    "    size = len(str(a))\n",
    "    \n",
    "    if size == 4: \n",
    "        return int(str(a)[2:4])\n",
    "    elif(size == 3):\n",
    "        return int(str(a)[1:3])\n",
    "    elif(size == 2):\n",
    "        return int(str(a)[0:2])\n",
    "    else:\n",
    "        return int(str(a)[0])\n",
    "\n",
    "def time_features(df):\n",
    "    df['DepHour'] = df.DepTime.apply(extraction_hour)\n",
    "    df['DepMinute'] = df.DepTime.apply(extraction_minutes)\n",
    "    return df#.drop(['DepTime'], axis=1)\n",
    "\n",
    "def datetime_features_to_int(df):\n",
    "    df.Month = df.Month.apply(lambda e: int(e.split(\"-\")[1]))\n",
    "    df.DayofMonth = df.DayofMonth.apply(lambda e: int(e.split(\"-\")[1]))\n",
    "    df.DayOfWeek = df.DayOfWeek.apply(lambda e: int(e.split(\"-\")[1]))\n",
    "    df['isWeekend'] = pd.Series([1 if (x > 5) & (x < 2) else 0 for x in df.DayOfWeek])\n",
    "    return df\n",
    "\n",
    "    "
   ]
  },
  {
   "cell_type": "markdown",
   "metadata": {},
   "source": [
    "# EDA"
   ]
  },
  {
   "cell_type": "code",
   "execution_count": 11,
   "metadata": {},
   "outputs": [
    {
     "data": {
      "text/plain": [
       "(100000, 9)"
      ]
     },
     "execution_count": 11,
     "metadata": {},
     "output_type": "execute_result"
    }
   ],
   "source": [
    "train_df.shape"
   ]
  },
  {
   "cell_type": "code",
   "execution_count": 12,
   "metadata": {},
   "outputs": [
    {
     "data": {
      "text/plain": [
       "(100000, 8)"
      ]
     },
     "execution_count": 12,
     "metadata": {},
     "output_type": "execute_result"
    }
   ],
   "source": [
    "test_df.shape"
   ]
  },
  {
   "cell_type": "code",
   "execution_count": 85,
   "metadata": {},
   "outputs": [
    {
     "data": {
      "text/plain": [
       "Month                object\n",
       "DayofMonth           object\n",
       "DayOfWeek            object\n",
       "DepTime               int64\n",
       "UniqueCarrier        object\n",
       "Origin               object\n",
       "Dest                 object\n",
       "Distance              int64\n",
       "dep_delayed_15min    object\n",
       "dtype: object"
      ]
     },
     "execution_count": 85,
     "metadata": {},
     "output_type": "execute_result"
    }
   ],
   "source": [
    "train_df.dtypes"
   ]
  },
  {
   "cell_type": "code",
   "execution_count": 89,
   "metadata": {},
   "outputs": [],
   "source": [
    "train_df = time_features(train_df)\n",
    "train_df = datetime_features_to_int(train_df)"
   ]
  },
  {
   "cell_type": "markdown",
   "metadata": {},
   "source": [
    "# Univariate analysis"
   ]
  },
  {
   "cell_type": "code",
   "execution_count": 94,
   "metadata": {},
   "outputs": [
    {
     "data": {
      "image/png": "[encoded data removed]",
      "text/plain": [
       "<Figure size 864x432 with 2 Axes>"
      ]
     },
     "metadata": {
      "needs_background": "light"
     },
     "output_type": "display_data"
    }
   ],
   "source": [
    "\n",
    "plt.subplots(1, 2, figsize = (12, 6)) \n",
    "\n",
    "plt.subplot(1, 2, 1)\n",
    "sns.countplot(train_df.Month)\n",
    "plt.title(\"Train\")\n",
    "plt.xlabel('Month')\n",
    "          \n",
    "plt.subplot(1, 2, 2)\n",
    "sns.countplot(test_df.Month)\n",
    "plt.title('Test')\n",
    "plt.xlabel('Month');\n"
   ]
  },
  {
   "cell_type": "code",
   "execution_count": 90,
   "metadata": {},
   "outputs": [
    {
     "data": {
      "text/plain": [
       "<matplotlib.axes._subplots.AxesSubplot at 0x7fb988af8be0>"
      ]
     },
     "execution_count": 90,
     "metadata": {},
     "output_type": "execute_result"
    },
    {
     "data": {
      "image/png": "[encoded data removed]",
      "text/plain": [
       "<Figure size 432x288 with 1 Axes>"
      ]
     },
     "metadata": {
      "needs_background": "light"
     },
     "output_type": "display_data"
    }
   ],
   "source": [
    "# output feature\n",
    "sns.countplot(train_df.dep_delayed_15min) # high imbalanced ratio"
   ]
  },
  {
   "cell_type": "markdown",
   "metadata": {},
   "source": [
    "# Bivariate analysis"
   ]
  },
  {
   "cell_type": "code",
   "execution_count": 91,
   "metadata": {},
   "outputs": [
    {
     "data": {
      "image/png": "[encoded data removed]",
      "text/plain": [
       "<Figure size 864x432 with 2 Axes>"
      ]
     },
     "metadata": {
      "needs_background": "light"
     },
     "output_type": "display_data"
    }
   ],
   "source": [
    "# features vs. output\n",
    "\n",
    "\n",
    "plt.subplots(1, 2, figsize = (12, 6)) \n",
    "\n",
    "plt.subplot(1, 2, 1)\n",
    "sns.countplot(train_df[train_df.dep_delayed_15min == 'Y'].DayofMonth)\n",
    "plt.title(\"Delayed\")\n",
    "plt.xlabel('Session start hour')\n",
    "          \n",
    "plt.subplot(1, 2, 2)\n",
    "sns.countplot(train_df[train_df.dep_delayed_15min == 'N'].DayofMonth)\n",
    "plt.title('On time')\n",
    "plt.xlabel('Session start hour');\n"
   ]
  },
  {
   "cell_type": "code",
   "execution_count": 92,
   "metadata": {},
   "outputs": [
    {
     "data": {
      "text/plain": [
       "<matplotlib.axes._subplots.AxesSubplot at 0x7fb98728d128>"
      ]
     },
     "execution_count": 92,
     "metadata": {},
     "output_type": "execute_result"
    },
    {
     "data": {
      "image/png": "[encoded data removed]",
      "text/plain": [
       "<Figure size 432x288 with 1 Axes>"
      ]
     },
     "metadata": {
      "needs_background": "light"
     },
     "output_type": "display_data"
    }
   ],
   "source": [
    "# features vs. output\n",
    "sns.countplot(y=\"Month\", hue=\"dep_delayed_15min\", data = train_df)\n"
   ]
  },
  {
   "cell_type": "code",
   "execution_count": 95,
   "metadata": {},
   "outputs": [
    {
     "data": {
      "image/png": "[encoded data removed]",
      "text/plain": [
       "<Figure size 864x432 with 2 Axes>"
      ]
     },
     "metadata": {
      "needs_background": "light"
     },
     "output_type": "display_data"
    }
   ],
   "source": [
    "# features vs. output\n",
    "plt.subplots(1, 2, figsize = (12, 6)) \n",
    "\n",
    "plt.subplot(1, 2, 1)\n",
    "sns.countplot(train_df[train_df.dep_delayed_15min == 'Y'].DayOfWeek)\n",
    "plt.title(\"Delayed\")\n",
    "plt.xlabel('Session start hour')\n",
    "          \n",
    "plt.subplot(1, 2, 2)\n",
    "sns.countplot(train_df[train_df.dep_delayed_15min == 'N'].DayOfWeek)\n",
    "plt.title('On time')\n",
    "plt.xlabel('Session start hour');\n",
    "\n",
    "# seems fridays are bad to take a plane, whereas saturdays are good"
   ]
  },
  {
   "cell_type": "code",
   "execution_count": 96,
   "metadata": {},
   "outputs": [
    {
     "data": {
      "image/png": "[encoded data removed]",
      "text/plain": [
       "<Figure size 864x432 with 2 Axes>"
      ]
     },
     "metadata": {
      "needs_background": "light"
     },
     "output_type": "display_data"
    }
   ],
   "source": [
    "plt.subplots(1, 2, figsize = (12, 6)) \n",
    "\n",
    "plt.subplot(1, 2, 1)\n",
    "sns.distplot(train_df[train_df.dep_delayed_15min == 'Y'].Distance)\n",
    "plt.title(\"Delayed\")\n",
    "plt.xlabel('Session start hour')\n",
    "          \n",
    "plt.subplot(1, 2, 2)\n",
    "sns.distplot(train_df[train_df.dep_delayed_15min == 'N'].Distance)\n",
    "plt.title('On time')\n",
    "plt.xlabel('Session start hour');\n",
    "\n",
    "# not big difference"
   ]
  },
  {
   "cell_type": "code",
   "execution_count": 21,
   "metadata": {},
   "outputs": [
    {
     "data": {
      "text/plain": [
       "N    80956\n",
       "Y    19044\n",
       "Name: dep_delayed_15min, dtype: int64"
      ]
     },
     "execution_count": 21,
     "metadata": {},
     "output_type": "execute_result"
    }
   ],
   "source": [
    "train_df.dep_delayed_15min.value_counts()"
   ]
  },
  {
   "cell_type": "code",
   "execution_count": 98,
   "metadata": {},
   "outputs": [
    {
     "data": {
      "image/png": "[encoded data removed]",
      "text/plain": [
       "<Figure size 864x432 with 2 Axes>"
      ]
     },
     "metadata": {
      "needs_background": "light"
     },
     "output_type": "display_data"
    }
   ],
   "source": [
    "plt.subplots(1, 2, figsize = (12, 6)) \n",
    "\n",
    "plt.subplot(1, 2, 1)\n",
    "sns.distplot(train_df[train_df.dep_delayed_15min == 'Y'].DepTime)\n",
    "plt.title(\"Delayed\")\n",
    "plt.xlabel('Session start hour')\n",
    "          \n",
    "plt.subplot(1, 2, 2)\n",
    "sns.distplot(train_df[train_df.dep_delayed_15min == 'N'].DepTime)\n",
    "plt.title('On time')\n",
    "plt.xlabel('Session start hour');\n",
    "\n",
    "# clearly more delays at the end of the day"
   ]
  },
  {
   "cell_type": "markdown",
   "metadata": {},
   "source": [
    "# Outliers"
   ]
  },
  {
   "cell_type": "code",
   "execution_count": 25,
   "metadata": {},
   "outputs": [
    {
     "data": {
      "text/plain": [
       "4962"
      ]
     },
     "execution_count": 25,
     "metadata": {},
     "output_type": "execute_result"
    }
   ],
   "source": [
    "test_df.Distance.max() # weird too much distance"
   ]
  },
  {
   "cell_type": "code",
   "execution_count": 26,
   "metadata": {},
   "outputs": [
    {
     "data": {
      "text/html": [
       "<div>\n",
       "<style scoped>\n",
       "    .dataframe tbody tr th:only-of-type {\n",
       "        vertical-align: middle;\n",
       "    }\n",
       "\n",
       "    .dataframe tbody tr th {\n",
       "        vertical-align: top;\n",
       "    }\n",
       "\n",
       "    .dataframe thead th {\n",
       "        text-align: right;\n",
       "    }\n",
       "</style>\n",
       "<table border=\"1\" class=\"dataframe\">\n",
       "  <thead>\n",
       "    <tr style=\"text-align: right;\">\n",
       "      <th></th>\n",
       "      <th>Month</th>\n",
       "      <th>DayofMonth</th>\n",
       "      <th>DayOfWeek</th>\n",
       "      <th>DepTime</th>\n",
       "      <th>UniqueCarrier</th>\n",
       "      <th>Origin</th>\n",
       "      <th>Dest</th>\n",
       "      <th>Distance</th>\n",
       "      <th>dep_delayed_15min</th>\n",
       "    </tr>\n",
       "  </thead>\n",
       "  <tbody>\n",
       "    <tr>\n",
       "      <th>18013</th>\n",
       "      <td>c-7</td>\n",
       "      <td>c-12</td>\n",
       "      <td>c-2</td>\n",
       "      <td>1325</td>\n",
       "      <td>CO</td>\n",
       "      <td>EWR</td>\n",
       "      <td>HNL</td>\n",
       "      <td>4962</td>\n",
       "      <td>N</td>\n",
       "    </tr>\n",
       "    <tr>\n",
       "      <th>23106</th>\n",
       "      <td>c-1</td>\n",
       "      <td>c-1</td>\n",
       "      <td>c-6</td>\n",
       "      <td>2310</td>\n",
       "      <td>CO</td>\n",
       "      <td>HNL</td>\n",
       "      <td>EWR</td>\n",
       "      <td>4962</td>\n",
       "      <td>Y</td>\n",
       "    </tr>\n",
       "    <tr>\n",
       "      <th>30874</th>\n",
       "      <td>c-11</td>\n",
       "      <td>c-16</td>\n",
       "      <td>c-4</td>\n",
       "      <td>1355</td>\n",
       "      <td>CO</td>\n",
       "      <td>EWR</td>\n",
       "      <td>HNL</td>\n",
       "      <td>4962</td>\n",
       "      <td>Y</td>\n",
       "    </tr>\n",
       "    <tr>\n",
       "      <th>43630</th>\n",
       "      <td>c-5</td>\n",
       "      <td>c-16</td>\n",
       "      <td>c-2</td>\n",
       "      <td>2118</td>\n",
       "      <td>CO</td>\n",
       "      <td>HNL</td>\n",
       "      <td>EWR</td>\n",
       "      <td>4962</td>\n",
       "      <td>N</td>\n",
       "    </tr>\n",
       "    <tr>\n",
       "      <th>52432</th>\n",
       "      <td>c-10</td>\n",
       "      <td>c-3</td>\n",
       "      <td>c-2</td>\n",
       "      <td>2124</td>\n",
       "      <td>CO</td>\n",
       "      <td>HNL</td>\n",
       "      <td>EWR</td>\n",
       "      <td>4962</td>\n",
       "      <td>N</td>\n",
       "    </tr>\n",
       "    <tr>\n",
       "      <th>73813</th>\n",
       "      <td>c-8</td>\n",
       "      <td>c-27</td>\n",
       "      <td>c-6</td>\n",
       "      <td>2128</td>\n",
       "      <td>CO</td>\n",
       "      <td>HNL</td>\n",
       "      <td>EWR</td>\n",
       "      <td>4962</td>\n",
       "      <td>N</td>\n",
       "    </tr>\n",
       "    <tr>\n",
       "      <th>81471</th>\n",
       "      <td>c-3</td>\n",
       "      <td>c-7</td>\n",
       "      <td>c-2</td>\n",
       "      <td>2237</td>\n",
       "      <td>CO</td>\n",
       "      <td>HNL</td>\n",
       "      <td>EWR</td>\n",
       "      <td>4962</td>\n",
       "      <td>N</td>\n",
       "    </tr>\n",
       "    <tr>\n",
       "      <th>81662</th>\n",
       "      <td>c-5</td>\n",
       "      <td>c-15</td>\n",
       "      <td>c-7</td>\n",
       "      <td>2126</td>\n",
       "      <td>CO</td>\n",
       "      <td>HNL</td>\n",
       "      <td>EWR</td>\n",
       "      <td>4962</td>\n",
       "      <td>N</td>\n",
       "    </tr>\n",
       "    <tr>\n",
       "      <th>89043</th>\n",
       "      <td>c-3</td>\n",
       "      <td>c-23</td>\n",
       "      <td>c-4</td>\n",
       "      <td>2247</td>\n",
       "      <td>CO</td>\n",
       "      <td>HNL</td>\n",
       "      <td>EWR</td>\n",
       "      <td>4962</td>\n",
       "      <td>N</td>\n",
       "    </tr>\n",
       "    <tr>\n",
       "      <th>89269</th>\n",
       "      <td>c-6</td>\n",
       "      <td>c-10</td>\n",
       "      <td>c-5</td>\n",
       "      <td>2129</td>\n",
       "      <td>CO</td>\n",
       "      <td>HNL</td>\n",
       "      <td>EWR</td>\n",
       "      <td>4962</td>\n",
       "      <td>N</td>\n",
       "    </tr>\n",
       "    <tr>\n",
       "      <th>95274</th>\n",
       "      <td>c-6</td>\n",
       "      <td>c-12</td>\n",
       "      <td>c-1</td>\n",
       "      <td>2126</td>\n",
       "      <td>CO</td>\n",
       "      <td>HNL</td>\n",
       "      <td>EWR</td>\n",
       "      <td>4962</td>\n",
       "      <td>N</td>\n",
       "    </tr>\n",
       "  </tbody>\n",
       "</table>\n",
       "</div>"
      ],
      "text/plain": [
       "      Month DayofMonth DayOfWeek  DepTime UniqueCarrier Origin Dest  Distance  \\\n",
       "18013   c-7       c-12       c-2     1325            CO    EWR  HNL      4962   \n",
       "23106   c-1        c-1       c-6     2310            CO    HNL  EWR      4962   \n",
       "30874  c-11       c-16       c-4     1355            CO    EWR  HNL      4962   \n",
       "43630   c-5       c-16       c-2     2118            CO    HNL  EWR      4962   \n",
       "52432  c-10        c-3       c-2     2124            CO    HNL  EWR      4962   \n",
       "73813   c-8       c-27       c-6     2128            CO    HNL  EWR      4962   \n",
       "81471   c-3        c-7       c-2     2237            CO    HNL  EWR      4962   \n",
       "81662   c-5       c-15       c-7     2126            CO    HNL  EWR      4962   \n",
       "89043   c-3       c-23       c-4     2247            CO    HNL  EWR      4962   \n",
       "89269   c-6       c-10       c-5     2129            CO    HNL  EWR      4962   \n",
       "95274   c-6       c-12       c-1     2126            CO    HNL  EWR      4962   \n",
       "\n",
       "      dep_delayed_15min  \n",
       "18013                 N  \n",
       "23106                 Y  \n",
       "30874                 Y  \n",
       "43630                 N  \n",
       "52432                 N  \n",
       "73813                 N  \n",
       "81471                 N  \n",
       "81662                 N  \n",
       "89043                 N  \n",
       "89269                 N  \n",
       "95274                 N  "
      ]
     },
     "execution_count": 26,
     "metadata": {},
     "output_type": "execute_result"
    }
   ],
   "source": [
    "train_df[train_df.Distance == 4962]"
   ]
  },
  {
   "cell_type": "code",
   "execution_count": 27,
   "metadata": {},
   "outputs": [
    {
     "data": {
      "text/plain": [
       "4962"
      ]
     },
     "execution_count": 27,
     "metadata": {},
     "output_type": "execute_result"
    }
   ],
   "source": [
    "train_df.Distance.max() # It seems that there is a flight with this real distance"
   ]
  },
  {
   "cell_type": "code",
   "execution_count": 28,
   "metadata": {},
   "outputs": [
    {
     "data": {
      "text/plain": [
       "<matplotlib.axes._subplots.AxesSubplot at 0x7fb98c607be0>"
      ]
     },
     "execution_count": 28,
     "metadata": {},
     "output_type": "execute_result"
    },
    {
     "data": {
      "image/png": "[encoded data removed]",
      "text/plain": [
       "<Figure size 432x288 with 1 Axes>"
      ]
     },
     "metadata": {
      "needs_background": "light"
     },
     "output_type": "display_data"
    }
   ],
   "source": [
    "train_df[train_df.Distance > 2556].Distance.hist()"
   ]
  },
  {
   "cell_type": "code",
   "execution_count": 29,
   "metadata": {},
   "outputs": [
    {
     "data": {
      "text/plain": [
       "Month                  12\n",
       "DayofMonth             31\n",
       "DayOfWeek               7\n",
       "DepTime              1300\n",
       "UniqueCarrier          22\n",
       "Origin                289\n",
       "Dest                  289\n",
       "Distance             1310\n",
       "dep_delayed_15min       2\n",
       "dtype: int64"
      ]
     },
     "execution_count": 29,
     "metadata": {},
     "output_type": "execute_result"
    }
   ],
   "source": [
    "train_df.nunique()"
   ]
  },
  {
   "cell_type": "code",
   "execution_count": 30,
   "metadata": {},
   "outputs": [
    {
     "data": {
      "text/plain": [
       "Month              12\n",
       "DayofMonth         31\n",
       "DayOfWeek           7\n",
       "DepTime          1287\n",
       "UniqueCarrier      20\n",
       "Origin            300\n",
       "Dest              298\n",
       "Distance         1331\n",
       "dtype: int64"
      ]
     },
     "execution_count": 30,
     "metadata": {},
     "output_type": "execute_result"
    }
   ],
   "source": [
    "test_df.nunique()"
   ]
  },
  {
   "cell_type": "code",
   "execution_count": 31,
   "metadata": {},
   "outputs": [
    {
     "data": {
      "text/plain": [
       "{'DH', 'HP', 'TZ'}"
      ]
     },
     "execution_count": 31,
     "metadata": {},
     "output_type": "execute_result"
    }
   ],
   "source": [
    "\n",
    "\n",
    "deleted_carriers = set(train_df.UniqueCarrier) - set(test_df.UniqueCarrier)\n",
    "deleted_carriers"
   ]
  },
  {
   "cell_type": "code",
   "execution_count": 32,
   "metadata": {},
   "outputs": [
    {
     "data": {
      "text/plain": [
       "2790"
      ]
     },
     "execution_count": 32,
     "metadata": {},
     "output_type": "execute_result"
    }
   ],
   "source": [
    "train_df[train_df.UniqueCarrier.isin(deleted_carriers)].shape[0]"
   ]
  },
  {
   "cell_type": "code",
   "execution_count": 33,
   "metadata": {},
   "outputs": [
    {
     "data": {
      "text/plain": [
       "{'9E'}"
      ]
     },
     "execution_count": 33,
     "metadata": {},
     "output_type": "execute_result"
    }
   ],
   "source": [
    "new_carriers = set(test_df.UniqueCarrier) - set(train_df.UniqueCarrier)\n",
    "new_carriers\n",
    "# new carriers on both sides"
   ]
  },
  {
   "cell_type": "code",
   "execution_count": 34,
   "metadata": {},
   "outputs": [
    {
     "data": {
      "text/plain": [
       "0.03461"
      ]
     },
     "execution_count": 34,
     "metadata": {},
     "output_type": "execute_result"
    }
   ],
   "source": [
    "test_df[test_df.UniqueCarrier.isin(new_carriers)].shape[0] / test_df.shape[0] # not a big deal"
   ]
  },
  {
   "cell_type": "code",
   "execution_count": 35,
   "metadata": {},
   "outputs": [
    {
     "data": {
      "text/html": [
       "<div>\n",
       "<style scoped>\n",
       "    .dataframe tbody tr th:only-of-type {\n",
       "        vertical-align: middle;\n",
       "    }\n",
       "\n",
       "    .dataframe tbody tr th {\n",
       "        vertical-align: top;\n",
       "    }\n",
       "\n",
       "    .dataframe thead th {\n",
       "        text-align: right;\n",
       "    }\n",
       "</style>\n",
       "<table border=\"1\" class=\"dataframe\">\n",
       "  <thead>\n",
       "    <tr style=\"text-align: right;\">\n",
       "      <th></th>\n",
       "      <th>Month</th>\n",
       "      <th>DayofMonth</th>\n",
       "      <th>DayOfWeek</th>\n",
       "      <th>DepTime</th>\n",
       "      <th>UniqueCarrier</th>\n",
       "      <th>Origin</th>\n",
       "      <th>Dest</th>\n",
       "      <th>Distance</th>\n",
       "    </tr>\n",
       "  </thead>\n",
       "  <tbody>\n",
       "    <tr>\n",
       "      <th>36</th>\n",
       "      <td>c-10</td>\n",
       "      <td>c-27</td>\n",
       "      <td>c-6</td>\n",
       "      <td>1523</td>\n",
       "      <td>9E</td>\n",
       "      <td>DTW</td>\n",
       "      <td>BHM</td>\n",
       "      <td>625</td>\n",
       "    </tr>\n",
       "    <tr>\n",
       "      <th>40</th>\n",
       "      <td>c-1</td>\n",
       "      <td>c-7</td>\n",
       "      <td>c-7</td>\n",
       "      <td>1255</td>\n",
       "      <td>9E</td>\n",
       "      <td>MSN</td>\n",
       "      <td>DCA</td>\n",
       "      <td>707</td>\n",
       "    </tr>\n",
       "    <tr>\n",
       "      <th>80</th>\n",
       "      <td>c-1</td>\n",
       "      <td>c-14</td>\n",
       "      <td>c-7</td>\n",
       "      <td>1447</td>\n",
       "      <td>9E</td>\n",
       "      <td>OMA</td>\n",
       "      <td>MSP</td>\n",
       "      <td>282</td>\n",
       "    </tr>\n",
       "    <tr>\n",
       "      <th>151</th>\n",
       "      <td>c-11</td>\n",
       "      <td>c-2</td>\n",
       "      <td>c-5</td>\n",
       "      <td>1834</td>\n",
       "      <td>9E</td>\n",
       "      <td>MEM</td>\n",
       "      <td>CMH</td>\n",
       "      <td>518</td>\n",
       "    </tr>\n",
       "    <tr>\n",
       "      <th>179</th>\n",
       "      <td>c-2</td>\n",
       "      <td>c-24</td>\n",
       "      <td>c-6</td>\n",
       "      <td>1455</td>\n",
       "      <td>9E</td>\n",
       "      <td>CVG</td>\n",
       "      <td>DTW</td>\n",
       "      <td>229</td>\n",
       "    </tr>\n",
       "  </tbody>\n",
       "</table>\n",
       "</div>"
      ],
      "text/plain": [
       "    Month DayofMonth DayOfWeek  DepTime UniqueCarrier Origin Dest  Distance\n",
       "36   c-10       c-27       c-6     1523            9E    DTW  BHM       625\n",
       "40    c-1        c-7       c-7     1255            9E    MSN  DCA       707\n",
       "80    c-1       c-14       c-7     1447            9E    OMA  MSP       282\n",
       "151  c-11        c-2       c-5     1834            9E    MEM  CMH       518\n",
       "179   c-2       c-24       c-6     1455            9E    CVG  DTW       229"
      ]
     },
     "execution_count": 35,
     "metadata": {},
     "output_type": "execute_result"
    }
   ],
   "source": [
    "test_df[test_df.UniqueCarrier.isin(new_carriers)].head()"
   ]
  },
  {
   "cell_type": "code",
   "execution_count": 36,
   "metadata": {},
   "outputs": [
    {
     "data": {
      "text/plain": [
       "{'CDC', 'HKY', 'HVN', 'ISO', 'PIE', 'VCT', 'VIS'}"
      ]
     },
     "execution_count": 36,
     "metadata": {},
     "output_type": "execute_result"
    }
   ],
   "source": [
    "set(train_df.Origin) - set(test_df.Origin)"
   ]
  },
  {
   "cell_type": "code",
   "execution_count": 37,
   "metadata": {},
   "outputs": [
    {
     "data": {
      "text/plain": [
       "{'CDC', 'GST', 'HKY', 'HVN', 'ISO', 'PIE', 'TEX', 'VCT', 'VIS'}"
      ]
     },
     "execution_count": 37,
     "metadata": {},
     "output_type": "execute_result"
    }
   ],
   "source": [
    "set(train_df.Dest) - set(test_df.Dest)"
   ]
  },
  {
   "cell_type": "code",
   "execution_count": 38,
   "metadata": {},
   "outputs": [
    {
     "data": {
      "text/plain": [
       "{'ALO',\n",
       " 'BJI',\n",
       " 'CMX',\n",
       " 'EAU',\n",
       " 'ELM',\n",
       " 'EWN',\n",
       " 'HHH',\n",
       " 'INL',\n",
       " 'MTH',\n",
       " 'PLN',\n",
       " 'PMD',\n",
       " 'RHI',\n",
       " 'ROW',\n",
       " 'SLE',\n",
       " 'SOP',\n",
       " 'SUX',\n",
       " 'TTN',\n",
       " 'YKM'}"
      ]
     },
     "execution_count": 38,
     "metadata": {},
     "output_type": "execute_result"
    }
   ],
   "source": [
    "new_origins = (set(test_df.Origin) - set(train_df.Origin)) \n",
    "new_origins\n",
    "# bad news, be aware with overfitting"
   ]
  },
  {
   "cell_type": "code",
   "execution_count": 39,
   "metadata": {},
   "outputs": [
    {
     "data": {
      "text/plain": [
       "{'ADK',\n",
       " 'ALO',\n",
       " 'BJI',\n",
       " 'CMX',\n",
       " 'EAU',\n",
       " 'ELM',\n",
       " 'EWN',\n",
       " 'HHH',\n",
       " 'INL',\n",
       " 'MTH',\n",
       " 'OAJ',\n",
       " 'PLN',\n",
       " 'PMD',\n",
       " 'RHI',\n",
       " 'ROW',\n",
       " 'SLE',\n",
       " 'SUX',\n",
       " 'YKM'}"
      ]
     },
     "execution_count": 39,
     "metadata": {},
     "output_type": "execute_result"
    }
   ],
   "source": [
    "new_dests = (set(test_df.Dest) - set(train_df.Dest))\n",
    "new_dests"
   ]
  },
  {
   "cell_type": "code",
   "execution_count": 40,
   "metadata": {},
   "outputs": [
    {
     "data": {
      "text/plain": [
       "(99, 8)"
      ]
     },
     "execution_count": 40,
     "metadata": {},
     "output_type": "execute_result"
    }
   ],
   "source": [
    "test_df[test_df.Origin.isin(new_origins)].shape # not a big deal, but still worrying"
   ]
  },
  {
   "cell_type": "code",
   "execution_count": 41,
   "metadata": {},
   "outputs": [
    {
     "data": {
      "text/html": [
       "<div>\n",
       "<style scoped>\n",
       "    .dataframe tbody tr th:only-of-type {\n",
       "        vertical-align: middle;\n",
       "    }\n",
       "\n",
       "    .dataframe tbody tr th {\n",
       "        vertical-align: top;\n",
       "    }\n",
       "\n",
       "    .dataframe thead th {\n",
       "        text-align: right;\n",
       "    }\n",
       "</style>\n",
       "<table border=\"1\" class=\"dataframe\">\n",
       "  <thead>\n",
       "    <tr style=\"text-align: right;\">\n",
       "      <th></th>\n",
       "      <th>Month</th>\n",
       "      <th>DayofMonth</th>\n",
       "      <th>DayOfWeek</th>\n",
       "      <th>DepTime</th>\n",
       "      <th>UniqueCarrier</th>\n",
       "      <th>Origin</th>\n",
       "      <th>Dest</th>\n",
       "      <th>Distance</th>\n",
       "    </tr>\n",
       "  </thead>\n",
       "  <tbody>\n",
       "    <tr>\n",
       "      <th>4295</th>\n",
       "      <td>c-9</td>\n",
       "      <td>c-19</td>\n",
       "      <td>c-3</td>\n",
       "      <td>626</td>\n",
       "      <td>EV</td>\n",
       "      <td>EWN</td>\n",
       "      <td>ATL</td>\n",
       "      <td>433</td>\n",
       "    </tr>\n",
       "    <tr>\n",
       "      <th>5599</th>\n",
       "      <td>c-8</td>\n",
       "      <td>c-20</td>\n",
       "      <td>c-1</td>\n",
       "      <td>1547</td>\n",
       "      <td>9E</td>\n",
       "      <td>ELM</td>\n",
       "      <td>DTW</td>\n",
       "      <td>331</td>\n",
       "    </tr>\n",
       "    <tr>\n",
       "      <th>6080</th>\n",
       "      <td>c-5</td>\n",
       "      <td>c-30</td>\n",
       "      <td>c-3</td>\n",
       "      <td>701</td>\n",
       "      <td>9E</td>\n",
       "      <td>CMX</td>\n",
       "      <td>MSP</td>\n",
       "      <td>277</td>\n",
       "    </tr>\n",
       "    <tr>\n",
       "      <th>6941</th>\n",
       "      <td>c-9</td>\n",
       "      <td>c-20</td>\n",
       "      <td>c-4</td>\n",
       "      <td>612</td>\n",
       "      <td>9E</td>\n",
       "      <td>PLN</td>\n",
       "      <td>DTW</td>\n",
       "      <td>243</td>\n",
       "    </tr>\n",
       "    <tr>\n",
       "      <th>7349</th>\n",
       "      <td>c-7</td>\n",
       "      <td>c-5</td>\n",
       "      <td>c-4</td>\n",
       "      <td>621</td>\n",
       "      <td>OO</td>\n",
       "      <td>YKM</td>\n",
       "      <td>SLC</td>\n",
       "      <td>586</td>\n",
       "    </tr>\n",
       "  </tbody>\n",
       "</table>\n",
       "</div>"
      ],
      "text/plain": [
       "     Month DayofMonth DayOfWeek  DepTime UniqueCarrier Origin Dest  Distance\n",
       "4295   c-9       c-19       c-3      626            EV    EWN  ATL       433\n",
       "5599   c-8       c-20       c-1     1547            9E    ELM  DTW       331\n",
       "6080   c-5       c-30       c-3      701            9E    CMX  MSP       277\n",
       "6941   c-9       c-20       c-4      612            9E    PLN  DTW       243\n",
       "7349   c-7        c-5       c-4      621            OO    YKM  SLC       586"
      ]
     },
     "execution_count": 41,
     "metadata": {},
     "output_type": "execute_result"
    }
   ],
   "source": [
    "test_df[test_df.Origin.isin(new_origins)].head()"
   ]
  },
  {
   "cell_type": "code",
   "execution_count": 42,
   "metadata": {},
   "outputs": [
    {
     "data": {
      "text/plain": [
       "0"
      ]
     },
     "execution_count": 42,
     "metadata": {},
     "output_type": "execute_result"
    }
   ],
   "source": [
    "train_df.isnull().sum(axis=0).sum() + test_df.isnull().sum(axis=0).sum() # No NaNs"
   ]
  },
  {
   "cell_type": "code",
   "execution_count": 43,
   "metadata": {},
   "outputs": [
    {
     "data": {
      "text/plain": [
       "1    5048\n",
       "Name: Distance, dtype: int64"
      ]
     },
     "execution_count": 43,
     "metadata": {},
     "output_type": "execute_result"
    }
   ],
   "source": [
    "# check distances are maintained across the same traject\n",
    "all_df = pd.concat([train_df, test_df])\n",
    "all_df['traject'] = all_df.apply(lambda x: '%s-%s' % (x['Origin'], x['Dest']), axis=1)\n",
    "train_df['traject'] = train_df.apply(lambda x: '%s-%s' % (x['Origin'], x['Dest']), axis=1)\n",
    "\n",
    "all_df.groupby('traject').Distance.nunique().value_counts()"
   ]
  },
  {
   "cell_type": "code",
   "execution_count": 44,
   "metadata": {},
   "outputs": [
    {
     "data": {
      "text/plain": [
       "DayOfWeek            object\n",
       "DayofMonth           object\n",
       "DepTime               int64\n",
       "Dest                 object\n",
       "Distance              int64\n",
       "Month                object\n",
       "Origin               object\n",
       "UniqueCarrier        object\n",
       "dep_delayed_15min    object\n",
       "traject              object\n",
       "dtype: object"
      ]
     },
     "execution_count": 44,
     "metadata": {},
     "output_type": "execute_result"
    }
   ],
   "source": [
    "all_df.dtypes"
   ]
  },
  {
   "cell_type": "code",
   "execution_count": 45,
   "metadata": {},
   "outputs": [],
   "source": [
    "train_df['target'] = train_df['dep_delayed_15min'].map({'Y': 1, 'N': 0}).values"
   ]
  },
  {
   "cell_type": "code",
   "execution_count": 46,
   "metadata": {},
   "outputs": [
    {
     "data": {
      "text/plain": [
       "<matplotlib.axes._subplots.AxesSubplot at 0x7fb98c398eb8>"
      ]
     },
     "execution_count": 46,
     "metadata": {},
     "output_type": "execute_result"
    },
    {
     "data": {
      "image/png": "[encoded data removed]",
      "text/plain": [
       "<Figure size 432x288 with 1 Axes>"
      ]
     },
     "metadata": {
      "needs_background": "light"
     },
     "output_type": "display_data"
    }
   ],
   "source": [
    "train_df.groupby('UniqueCarrier').agg({'Distance': np.mean, 'target': np.sum}).plot()\n",
    "\n",
    "# seems no relationship among mean distance and target"
   ]
  },
  {
   "cell_type": "code",
   "execution_count": 47,
   "metadata": {},
   "outputs": [
    {
     "data": {
      "text/html": [
       "<div>\n",
       "<style scoped>\n",
       "    .dataframe tbody tr th:only-of-type {\n",
       "        vertical-align: middle;\n",
       "    }\n",
       "\n",
       "    .dataframe tbody tr th {\n",
       "        vertical-align: top;\n",
       "    }\n",
       "\n",
       "    .dataframe thead th {\n",
       "        text-align: right;\n",
       "    }\n",
       "</style>\n",
       "<table border=\"1\" class=\"dataframe\">\n",
       "  <thead>\n",
       "    <tr style=\"text-align: right;\">\n",
       "      <th></th>\n",
       "      <th>Distance</th>\n",
       "      <th>target</th>\n",
       "    </tr>\n",
       "    <tr>\n",
       "      <th>UniqueCarrier</th>\n",
       "      <th></th>\n",
       "      <th></th>\n",
       "    </tr>\n",
       "  </thead>\n",
       "  <tbody>\n",
       "    <tr>\n",
       "      <th>AA</th>\n",
       "      <td>1079.926630</td>\n",
       "      <td>1770</td>\n",
       "    </tr>\n",
       "    <tr>\n",
       "      <th>AQ</th>\n",
       "      <td>506.307692</td>\n",
       "      <td>18</td>\n",
       "    </tr>\n",
       "    <tr>\n",
       "      <th>AS</th>\n",
       "      <td>868.553555</td>\n",
       "      <td>541</td>\n",
       "    </tr>\n",
       "    <tr>\n",
       "      <th>B6</th>\n",
       "      <td>1276.878128</td>\n",
       "      <td>393</td>\n",
       "    </tr>\n",
       "    <tr>\n",
       "      <th>CO</th>\n",
       "      <td>1113.829257</td>\n",
       "      <td>788</td>\n",
       "    </tr>\n",
       "    <tr>\n",
       "      <th>DH</th>\n",
       "      <td>453.467909</td>\n",
       "      <td>156</td>\n",
       "    </tr>\n",
       "    <tr>\n",
       "      <th>DL</th>\n",
       "      <td>888.395423</td>\n",
       "      <td>1373</td>\n",
       "    </tr>\n",
       "    <tr>\n",
       "      <th>EV</th>\n",
       "      <td>475.270483</td>\n",
       "      <td>1082</td>\n",
       "    </tr>\n",
       "    <tr>\n",
       "      <th>F9</th>\n",
       "      <td>892.682903</td>\n",
       "      <td>156</td>\n",
       "    </tr>\n",
       "    <tr>\n",
       "      <th>FL</th>\n",
       "      <td>657.792695</td>\n",
       "      <td>736</td>\n",
       "    </tr>\n",
       "    <tr>\n",
       "      <th>HA</th>\n",
       "      <td>574.506562</td>\n",
       "      <td>33</td>\n",
       "    </tr>\n",
       "    <tr>\n",
       "      <th>HP</th>\n",
       "      <td>1013.437591</td>\n",
       "      <td>196</td>\n",
       "    </tr>\n",
       "    <tr>\n",
       "      <th>MQ</th>\n",
       "      <td>407.228940</td>\n",
       "      <td>1448</td>\n",
       "    </tr>\n",
       "    <tr>\n",
       "      <th>NW</th>\n",
       "      <td>763.739497</td>\n",
       "      <td>1075</td>\n",
       "    </tr>\n",
       "    <tr>\n",
       "      <th>OH</th>\n",
       "      <td>462.688289</td>\n",
       "      <td>808</td>\n",
       "    </tr>\n",
       "    <tr>\n",
       "      <th>OO</th>\n",
       "      <td>386.307442</td>\n",
       "      <td>1277</td>\n",
       "    </tr>\n",
       "    <tr>\n",
       "      <th>TZ</th>\n",
       "      <td>1189.152466</td>\n",
       "      <td>64</td>\n",
       "    </tr>\n",
       "    <tr>\n",
       "      <th>UA</th>\n",
       "      <td>1111.682519</td>\n",
       "      <td>1322</td>\n",
       "    </tr>\n",
       "    <tr>\n",
       "      <th>US</th>\n",
       "      <td>747.287566</td>\n",
       "      <td>1085</td>\n",
       "    </tr>\n",
       "    <tr>\n",
       "      <th>WN</th>\n",
       "      <td>620.371171</td>\n",
       "      <td>3219</td>\n",
       "    </tr>\n",
       "    <tr>\n",
       "      <th>XE</th>\n",
       "      <td>530.383664</td>\n",
       "      <td>1026</td>\n",
       "    </tr>\n",
       "    <tr>\n",
       "      <th>YV</th>\n",
       "      <td>414.545113</td>\n",
       "      <td>478</td>\n",
       "    </tr>\n",
       "  </tbody>\n",
       "</table>\n",
       "</div>"
      ],
      "text/plain": [
       "                  Distance  target\n",
       "UniqueCarrier                     \n",
       "AA             1079.926630    1770\n",
       "AQ              506.307692      18\n",
       "AS              868.553555     541\n",
       "B6             1276.878128     393\n",
       "CO             1113.829257     788\n",
       "DH              453.467909     156\n",
       "DL              888.395423    1373\n",
       "EV              475.270483    1082\n",
       "F9              892.682903     156\n",
       "FL              657.792695     736\n",
       "HA              574.506562      33\n",
       "HP             1013.437591     196\n",
       "MQ              407.228940    1448\n",
       "NW              763.739497    1075\n",
       "OH              462.688289     808\n",
       "OO              386.307442    1277\n",
       "TZ             1189.152466      64\n",
       "UA             1111.682519    1322\n",
       "US              747.287566    1085\n",
       "WN              620.371171    3219\n",
       "XE              530.383664    1026\n",
       "YV              414.545113     478"
      ]
     },
     "execution_count": 47,
     "metadata": {},
     "output_type": "execute_result"
    }
   ],
   "source": [
    "train_df.groupby('UniqueCarrier').agg({'Distance': np.mean, 'target': np.sum})"
   ]
  },
  {
   "cell_type": "code",
   "execution_count": 48,
   "metadata": {},
   "outputs": [
    {
     "data": {
      "text/plain": [
       "<matplotlib.axes._subplots.AxesSubplot at 0x7fb98c354e80>"
      ]
     },
     "execution_count": 48,
     "metadata": {},
     "output_type": "execute_result"
    },
    {
     "data": {
      "image/png": "[encoded data removed]",
      "text/plain": [
       "<Figure size 432x288 with 1 Axes>"
      ]
     },
     "metadata": {
      "needs_background": "light"
     },
     "output_type": "display_data"
    }
   ],
   "source": [
    "train_df.groupby('UniqueCarrier').agg({'target': np.mean}).plot()"
   ]
  },
  {
   "cell_type": "code",
   "execution_count": 49,
   "metadata": {},
   "outputs": [
    {
     "data": {
      "text/plain": [
       "<matplotlib.axes._subplots.AxesSubplot at 0x7fb98be18240>"
      ]
     },
     "execution_count": 49,
     "metadata": {},
     "output_type": "execute_result"
    },
    {
     "data": {
      "image/png": "[encoded data removed]",
      "text/plain": [
       "<Figure size 432x288 with 1 Axes>"
      ]
     },
     "metadata": {
      "needs_background": "light"
     },
     "output_type": "display_data"
    }
   ],
   "source": [
    "stats_mean_distance_carrier = all_df.groupby('UniqueCarrier').Distance.mean()\n",
    "stats_mean_distance_carrier.plot()"
   ]
  },
  {
   "cell_type": "code",
   "execution_count": 50,
   "metadata": {},
   "outputs": [
    {
     "data": {
      "text/plain": [
       "<matplotlib.axes._subplots.AxesSubplot at 0x7fb98c4b3320>"
      ]
     },
     "execution_count": 50,
     "metadata": {},
     "output_type": "execute_result"
    },
    {
     "data": {
      "image/png": "[encoded data removed]",
      "text/plain": [
       "<Figure size 432x288 with 1 Axes>"
      ]
     },
     "metadata": {
      "needs_background": "light"
     },
     "output_type": "display_data"
    }
   ],
   "source": [
    "stats_mean_distance_carrier = train_df.groupby('UniqueCarrier').target.sum()\n",
    "stats_mean_distance_carrier.plot()"
   ]
  },
  {
   "cell_type": "code",
   "execution_count": 51,
   "metadata": {},
   "outputs": [
    {
     "data": {
      "text/plain": [
       "<matplotlib.axes._subplots.AxesSubplot at 0x7fb989f43a90>"
      ]
     },
     "execution_count": 51,
     "metadata": {},
     "output_type": "execute_result"
    },
    {
     "data": {
      "image/png": "[encoded data removed]",
      "text/plain": [
       "<Figure size 432x288 with 1 Axes>"
      ]
     },
     "metadata": {
      "needs_background": "light"
     },
     "output_type": "display_data"
    }
   ],
   "source": [
    "# check flights per carrier\n",
    "train_df['traject'] = train_df.apply(lambda x: '%s-%s' % (x['Origin'], x['Dest']), axis=1)\n",
    "\n",
    "ntraject_per_carrier = train_df.groupby('UniqueCarrier').agg({'traject': pd.Series.nunique, 'target': sum}).sort_values('traject', ascending=True)\n",
    "ntraject_per_carrier.plot()\n",
    "\n",
    "# more trajects imply more troubles"
   ]
  },
  {
   "cell_type": "code",
   "execution_count": 53,
   "metadata": {},
   "outputs": [],
   "source": [
    "tmp = time_features(train_df)\n",
    "tmp = datetime_features_to_int(tmp)"
   ]
  },
  {
   "cell_type": "code",
   "execution_count": 54,
   "metadata": {},
   "outputs": [
    {
     "data": {
      "text/html": [
       "<div>\n",
       "<style scoped>\n",
       "    .dataframe tbody tr th:only-of-type {\n",
       "        vertical-align: middle;\n",
       "    }\n",
       "\n",
       "    .dataframe tbody tr th {\n",
       "        vertical-align: top;\n",
       "    }\n",
       "\n",
       "    .dataframe thead th {\n",
       "        text-align: right;\n",
       "    }\n",
       "</style>\n",
       "<table border=\"1\" class=\"dataframe\">\n",
       "  <thead>\n",
       "    <tr style=\"text-align: right;\">\n",
       "      <th></th>\n",
       "      <th>target</th>\n",
       "    </tr>\n",
       "  </thead>\n",
       "  <tbody>\n",
       "    <tr>\n",
       "      <th>count</th>\n",
       "      <td>1300.000000</td>\n",
       "    </tr>\n",
       "    <tr>\n",
       "      <th>mean</th>\n",
       "      <td>76.923077</td>\n",
       "    </tr>\n",
       "    <tr>\n",
       "      <th>std</th>\n",
       "      <td>51.499204</td>\n",
       "    </tr>\n",
       "    <tr>\n",
       "      <th>min</th>\n",
       "      <td>1.000000</td>\n",
       "    </tr>\n",
       "    <tr>\n",
       "      <th>25%</th>\n",
       "      <td>36.000000</td>\n",
       "    </tr>\n",
       "    <tr>\n",
       "      <th>50%</th>\n",
       "      <td>80.000000</td>\n",
       "    </tr>\n",
       "    <tr>\n",
       "      <th>75%</th>\n",
       "      <td>97.000000</td>\n",
       "    </tr>\n",
       "    <tr>\n",
       "      <th>max</th>\n",
       "      <td>359.000000</td>\n",
       "    </tr>\n",
       "  </tbody>\n",
       "</table>\n",
       "</div>"
      ],
      "text/plain": [
       "            target\n",
       "count  1300.000000\n",
       "mean     76.923077\n",
       "std      51.499204\n",
       "min       1.000000\n",
       "25%      36.000000\n",
       "50%      80.000000\n",
       "75%      97.000000\n",
       "max     359.000000"
      ]
     },
     "execution_count": 54,
     "metadata": {},
     "output_type": "execute_result"
    }
   ],
   "source": [
    "tmp.groupby('DepTime').agg({'target': lambda x: len(x)}).describe()\n",
    "# repetitions in deptime"
   ]
  },
  {
   "cell_type": "code",
   "execution_count": null,
   "metadata": {},
   "outputs": [],
   "source": []
  },
  {
   "cell_type": "code",
   "execution_count": 55,
   "metadata": {},
   "outputs": [
    {
     "data": {
      "text/plain": [
       "<matplotlib.axes._subplots.AxesSubplot at 0x7fb98c87eeb8>"
      ]
     },
     "execution_count": 55,
     "metadata": {},
     "output_type": "execute_result"
    },
    {
     "data": {
      "image/png": "[encoded data removed]",
      "text/plain": [
       "<Figure size 864x432 with 1 Axes>"
      ]
     },
     "metadata": {
      "needs_background": "light"
     },
     "output_type": "display_data"
    }
   ],
   "source": [
    "tmp.groupby('DepTime').agg({'target': lambda x: sum(x) / len(x)}).plot(figsize=(12,6))\n",
    "\n",
    "# Dept time is very influent on target, but is unconfident during the first hours"
   ]
  },
  {
   "cell_type": "code",
   "execution_count": 56,
   "metadata": {},
   "outputs": [
    {
     "data": {
      "text/plain": [
       "<matplotlib.axes._subplots.AxesSubplot at 0x7fb98c889a58>"
      ]
     },
     "execution_count": 56,
     "metadata": {},
     "output_type": "execute_result"
    },
    {
     "data": {
      "image/png": "[encoded data removed]",
      "text/plain": [
       "<Figure size 432x288 with 1 Axes>"
      ]
     },
     "metadata": {
      "needs_background": "light"
     },
     "output_type": "display_data"
    }
   ],
   "source": [
    "tmp.groupby('DepHour').agg({'target': lambda x: sum(x) / len(x)}).plot()"
   ]
  },
  {
   "cell_type": "code",
   "execution_count": 57,
   "metadata": {},
   "outputs": [
    {
     "data": {
      "text/plain": [
       "<matplotlib.axes._subplots.AxesSubplot at 0x7fb98c410ac8>"
      ]
     },
     "execution_count": 57,
     "metadata": {},
     "output_type": "execute_result"
    },
    {
     "data": {
      "image/png": "[encoded data removed]",
      "text/plain": [
       "<Figure size 432x288 with 1 Axes>"
      ]
     },
     "metadata": {
      "needs_background": "light"
     },
     "output_type": "display_data"
    }
   ],
   "source": [
    "tmp.groupby('DepMinute').agg({'target': lambda x: sum(x) / len(x)}).plot()"
   ]
  },
  {
   "cell_type": "code",
   "execution_count": 58,
   "metadata": {},
   "outputs": [
    {
     "data": {
      "text/plain": [
       "<matplotlib.axes._subplots.AxesSubplot at 0x7fb98c8c4518>"
      ]
     },
     "execution_count": 58,
     "metadata": {},
     "output_type": "execute_result"
    },
    {
     "data": {
      "image/png": "[encoded data removed]",
      "text/plain": [
       "<Figure size 432x288 with 1 Axes>"
      ]
     },
     "metadata": {
      "needs_background": "light"
     },
     "output_type": "display_data"
    }
   ],
   "source": [
    "# check flights per carrier\n",
    "train_df.groupby('DayOfWeek').agg({'target': sum}).plot()"
   ]
  },
  {
   "cell_type": "code",
   "execution_count": 59,
   "metadata": {},
   "outputs": [
    {
     "data": {
      "text/html": [
       "<div>\n",
       "<style scoped>\n",
       "    .dataframe tbody tr th:only-of-type {\n",
       "        vertical-align: middle;\n",
       "    }\n",
       "\n",
       "    .dataframe tbody tr th {\n",
       "        vertical-align: top;\n",
       "    }\n",
       "\n",
       "    .dataframe thead th {\n",
       "        text-align: right;\n",
       "    }\n",
       "</style>\n",
       "<table border=\"1\" class=\"dataframe\">\n",
       "  <thead>\n",
       "    <tr style=\"text-align: right;\">\n",
       "      <th></th>\n",
       "      <th>DepTime</th>\n",
       "      <th>target</th>\n",
       "    </tr>\n",
       "    <tr>\n",
       "      <th>traject</th>\n",
       "      <th></th>\n",
       "      <th></th>\n",
       "    </tr>\n",
       "  </thead>\n",
       "  <tbody>\n",
       "    <tr>\n",
       "      <th>DCA-ROC</th>\n",
       "      <td>1773.333333</td>\n",
       "      <td>1.0</td>\n",
       "    </tr>\n",
       "    <tr>\n",
       "      <th>ATL-CID</th>\n",
       "      <td>2312.000000</td>\n",
       "      <td>1.0</td>\n",
       "    </tr>\n",
       "    <tr>\n",
       "      <th>CID-ATL</th>\n",
       "      <td>728.000000</td>\n",
       "      <td>1.0</td>\n",
       "    </tr>\n",
       "    <tr>\n",
       "      <th>DEN-GRR</th>\n",
       "      <td>1103.000000</td>\n",
       "      <td>1.0</td>\n",
       "    </tr>\n",
       "    <tr>\n",
       "      <th>TPA-RIC</th>\n",
       "      <td>1338.000000</td>\n",
       "      <td>1.0</td>\n",
       "    </tr>\n",
       "    <tr>\n",
       "      <th>RSW-CMH</th>\n",
       "      <td>1442.500000</td>\n",
       "      <td>1.0</td>\n",
       "    </tr>\n",
       "    <tr>\n",
       "      <th>JFK-CHS</th>\n",
       "      <td>2330.000000</td>\n",
       "      <td>1.0</td>\n",
       "    </tr>\n",
       "    <tr>\n",
       "      <th>GRB-DFW</th>\n",
       "      <td>1437.000000</td>\n",
       "      <td>1.0</td>\n",
       "    </tr>\n",
       "    <tr>\n",
       "      <th>BOS-TTN</th>\n",
       "      <td>1005.000000</td>\n",
       "      <td>1.0</td>\n",
       "    </tr>\n",
       "    <tr>\n",
       "      <th>DTW-SAV</th>\n",
       "      <td>931.000000</td>\n",
       "      <td>1.0</td>\n",
       "    </tr>\n",
       "  </tbody>\n",
       "</table>\n",
       "</div>"
      ],
      "text/plain": [
       "             DepTime  target\n",
       "traject                     \n",
       "DCA-ROC  1773.333333     1.0\n",
       "ATL-CID  2312.000000     1.0\n",
       "CID-ATL   728.000000     1.0\n",
       "DEN-GRR  1103.000000     1.0\n",
       "TPA-RIC  1338.000000     1.0\n",
       "RSW-CMH  1442.500000     1.0\n",
       "JFK-CHS  2330.000000     1.0\n",
       "GRB-DFW  1437.000000     1.0\n",
       "BOS-TTN  1005.000000     1.0\n",
       "DTW-SAV   931.000000     1.0"
      ]
     },
     "execution_count": 59,
     "metadata": {},
     "output_type": "execute_result"
    }
   ],
   "source": [
    "train_df.groupby('traject').agg({'DepTime': np.mean, 'target': lambda x: sum(x) / len(x)}).sort_values('target', ascending=False)[:10]"
   ]
  },
  {
   "cell_type": "code",
   "execution_count": 61,
   "metadata": {},
   "outputs": [
    {
     "data": {
      "text/plain": [
       "0    2018-08-21\n",
       "1    2018-04-20\n",
       "2    2018-09-02\n",
       "3    2018-11-25\n",
       "4    2018-10-07\n",
       "Name: day_and_month_str, dtype: object"
      ]
     },
     "execution_count": 61,
     "metadata": {},
     "output_type": "execute_result"
    }
   ],
   "source": [
    "date_strings = '2018-' + tmp['Month'].map(str) + \"-\" + tmp['DayofMonth'].map(str)\n",
    "tmp['day_and_month'] = pd.to_datetime(date_strings)\n",
    "tmp['day_and_month_str'] = tmp.day_and_month.apply(lambda x: x.strftime('%Y-%m-%d'))\n",
    "tmp.day_and_month_str.head()"
   ]
  },
  {
   "cell_type": "code",
   "execution_count": 65,
   "metadata": {},
   "outputs": [
    {
     "data": {
      "text/plain": [
       "<matplotlib.axes._subplots.AxesSubplot at 0x7fb98ca5ee10>"
      ]
     },
     "execution_count": 65,
     "metadata": {},
     "output_type": "execute_result"
    },
    {
     "data": {
      "image/png": "[encoded data removed]",
      "text/plain": [
       "<Figure size 432x288 with 1 Axes>"
      ]
     },
     "metadata": {
      "needs_background": "light"
     },
     "output_type": "display_data"
    }
   ],
   "source": [
    "tmp.groupby('day_and_month').agg({'target': len}).plot()\n",
    "\n",
    "# good representations of day and month, among 320 registers and 200"
   ]
  },
  {
   "cell_type": "code",
   "execution_count": 66,
   "metadata": {},
   "outputs": [
    {
     "data": {
      "text/plain": [
       "<matplotlib.axes._subplots.AxesSubplot at 0x7fb98c4a43c8>"
      ]
     },
     "execution_count": 66,
     "metadata": {},
     "output_type": "execute_result"
    },
    {
     "data": {
      "image/png": "[encoded data removed]",
      "text/plain": [
       "<Figure size 432x288 with 1 Axes>"
      ]
     },
     "metadata": {
      "needs_background": "light"
     },
     "output_type": "display_data"
    }
   ],
   "source": [
    "stats = tmp.groupby('day_and_month').agg({'target': lambda x: sum(x) / len(x)}).sort_index()\n",
    "stats.plot()\n",
    "\n",
    "# percentages per day_month (there are some peaks, let's check them)"
   ]
  },
  {
   "cell_type": "code",
   "execution_count": 70,
   "metadata": {},
   "outputs": [
    {
     "data": {
      "text/plain": [
       "(100000, 16)"
      ]
     },
     "execution_count": 70,
     "metadata": {},
     "output_type": "execute_result"
    }
   ],
   "source": [
    "tmp.shape"
   ]
  },
  {
   "cell_type": "code",
   "execution_count": null,
   "metadata": {},
   "outputs": [],
   "source": [
    "tmp[]"
   ]
  },
  {
   "cell_type": "code",
   "execution_count": 69,
   "metadata": {},
   "outputs": [
    {
     "data": {
      "text/plain": [
       "1    2655\n",
       "2    1054\n",
       "3     473\n",
       "4     197\n",
       "5      32\n",
       "6      10\n",
       "7       6\n",
       "9       2\n",
       "Name: UniqueCarrier, dtype: int64"
      ]
     },
     "execution_count": 69,
     "metadata": {},
     "output_type": "execute_result"
    }
   ],
   "source": [
    "# All tracjets are performed by the same company?\n",
    "tmp.groupby('traject').UniqueCarrier.nunique().value_counts() # it seems can be useful to distinguish among traject-companies\n",
    "\n"
   ]
  },
  {
   "cell_type": "code",
   "execution_count": 71,
   "metadata": {},
   "outputs": [],
   "source": [
    "# Unique carrier + origin/dest\n",
    "tmp['Carrier_Origin'] = tmp.apply(lambda x: '%s-%s' % (x['UniqueCarrier'], x['Origin']), axis=1)\n",
    "tmp['Carrier_Dest'] = tmp.apply(lambda x: '%s-%s' % (x['UniqueCarrier'], x['Dest']), axis=1)\n",
    "tmp['Carrier_Traject'] = tmp.apply(lambda x: '%s-%s' % (x['UniqueCarrier'], x['traject']), axis=1)"
   ]
  },
  {
   "cell_type": "code",
   "execution_count": 76,
   "metadata": {},
   "outputs": [
    {
     "data": {
      "text/plain": [
       "Carrier_Origin\n",
       "EV-CID    1.0\n",
       "OH-ILM    1.0\n",
       "CO-GSO    1.0\n",
       "OH-SHV    1.0\n",
       "AS-GST    1.0\n",
       "Name: target, dtype: float64"
      ]
     },
     "execution_count": 76,
     "metadata": {},
     "output_type": "execute_result"
    }
   ],
   "source": [
    "tmp.groupby('Carrier_Origin').target.apply(lambda x: sum(x) / len(x)).sort_values(ascending=False).head()"
   ]
  },
  {
   "cell_type": "code",
   "execution_count": 101,
   "metadata": {},
   "outputs": [
    {
     "data": {
      "text/html": [
       "<div>\n",
       "<style scoped>\n",
       "    .dataframe tbody tr th:only-of-type {\n",
       "        vertical-align: middle;\n",
       "    }\n",
       "\n",
       "    .dataframe tbody tr th {\n",
       "        vertical-align: top;\n",
       "    }\n",
       "\n",
       "    .dataframe thead th {\n",
       "        text-align: right;\n",
       "    }\n",
       "</style>\n",
       "<table border=\"1\" class=\"dataframe\">\n",
       "  <thead>\n",
       "    <tr style=\"text-align: right;\">\n",
       "      <th></th>\n",
       "      <th>id</th>\n",
       "      <th>ident</th>\n",
       "      <th>type</th>\n",
       "      <th>name</th>\n",
       "      <th>latitude_deg</th>\n",
       "      <th>longitude_deg</th>\n",
       "      <th>elevation_ft</th>\n",
       "      <th>continent</th>\n",
       "      <th>iso_country</th>\n",
       "      <th>iso_region</th>\n",
       "      <th>municipality</th>\n",
       "      <th>scheduled_service</th>\n",
       "      <th>gps_code</th>\n",
       "      <th>iata_code</th>\n",
       "      <th>local_code</th>\n",
       "      <th>home_link</th>\n",
       "      <th>wikipedia_link</th>\n",
       "      <th>keywords</th>\n",
       "    </tr>\n",
       "  </thead>\n",
       "  <tbody>\n",
       "    <tr>\n",
       "      <th>0</th>\n",
       "      <td>6523</td>\n",
       "      <td>00A</td>\n",
       "      <td>heliport</td>\n",
       "      <td>Total Rf Heliport</td>\n",
       "      <td>40.070801</td>\n",
       "      <td>-74.933601</td>\n",
       "      <td>11.0</td>\n",
       "      <td>NaN</td>\n",
       "      <td>US</td>\n",
       "      <td>US-PA</td>\n",
       "      <td>Bensalem</td>\n",
       "      <td>no</td>\n",
       "      <td>00A</td>\n",
       "      <td>NaN</td>\n",
       "      <td>00A</td>\n",
       "      <td>NaN</td>\n",
       "      <td>NaN</td>\n",
       "      <td>NaN</td>\n",
       "    </tr>\n",
       "    <tr>\n",
       "      <th>1</th>\n",
       "      <td>323361</td>\n",
       "      <td>00AA</td>\n",
       "      <td>small_airport</td>\n",
       "      <td>Aero B Ranch Airport</td>\n",
       "      <td>38.704022</td>\n",
       "      <td>-101.473911</td>\n",
       "      <td>3435.0</td>\n",
       "      <td>NaN</td>\n",
       "      <td>US</td>\n",
       "      <td>US-KS</td>\n",
       "      <td>Leoti</td>\n",
       "      <td>no</td>\n",
       "      <td>00AA</td>\n",
       "      <td>NaN</td>\n",
       "      <td>00AA</td>\n",
       "      <td>NaN</td>\n",
       "      <td>NaN</td>\n",
       "      <td>NaN</td>\n",
       "    </tr>\n",
       "    <tr>\n",
       "      <th>2</th>\n",
       "      <td>6524</td>\n",
       "      <td>00AK</td>\n",
       "      <td>small_airport</td>\n",
       "      <td>Lowell Field</td>\n",
       "      <td>59.949200</td>\n",
       "      <td>-151.695999</td>\n",
       "      <td>450.0</td>\n",
       "      <td>NaN</td>\n",
       "      <td>US</td>\n",
       "      <td>US-AK</td>\n",
       "      <td>Anchor Point</td>\n",
       "      <td>no</td>\n",
       "      <td>00AK</td>\n",
       "      <td>NaN</td>\n",
       "      <td>00AK</td>\n",
       "      <td>NaN</td>\n",
       "      <td>NaN</td>\n",
       "      <td>NaN</td>\n",
       "    </tr>\n",
       "    <tr>\n",
       "      <th>3</th>\n",
       "      <td>6525</td>\n",
       "      <td>00AL</td>\n",
       "      <td>small_airport</td>\n",
       "      <td>Epps Airpark</td>\n",
       "      <td>34.864799</td>\n",
       "      <td>-86.770302</td>\n",
       "      <td>820.0</td>\n",
       "      <td>NaN</td>\n",
       "      <td>US</td>\n",
       "      <td>US-AL</td>\n",
       "      <td>Harvest</td>\n",
       "      <td>no</td>\n",
       "      <td>00AL</td>\n",
       "      <td>NaN</td>\n",
       "      <td>00AL</td>\n",
       "      <td>NaN</td>\n",
       "      <td>NaN</td>\n",
       "      <td>NaN</td>\n",
       "    </tr>\n",
       "    <tr>\n",
       "      <th>4</th>\n",
       "      <td>6526</td>\n",
       "      <td>00AR</td>\n",
       "      <td>closed</td>\n",
       "      <td>Newport Hospital &amp; Clinic Heliport</td>\n",
       "      <td>35.608700</td>\n",
       "      <td>-91.254898</td>\n",
       "      <td>237.0</td>\n",
       "      <td>NaN</td>\n",
       "      <td>US</td>\n",
       "      <td>US-AR</td>\n",
       "      <td>Newport</td>\n",
       "      <td>no</td>\n",
       "      <td>NaN</td>\n",
       "      <td>NaN</td>\n",
       "      <td>NaN</td>\n",
       "      <td>NaN</td>\n",
       "      <td>NaN</td>\n",
       "      <td>00AR</td>\n",
       "    </tr>\n",
       "  </tbody>\n",
       "</table>\n",
       "</div>"
      ],
      "text/plain": [
       "       id ident           type                                name  \\\n",
       "0    6523   00A       heliport                   Total Rf Heliport   \n",
       "1  323361  00AA  small_airport                Aero B Ranch Airport   \n",
       "2    6524  00AK  small_airport                        Lowell Field   \n",
       "3    6525  00AL  small_airport                        Epps Airpark   \n",
       "4    6526  00AR         closed  Newport Hospital & Clinic Heliport   \n",
       "\n",
       "   latitude_deg  longitude_deg  elevation_ft continent iso_country iso_region  \\\n",
       "0     40.070801     -74.933601          11.0       NaN          US      US-PA   \n",
       "1     38.704022    -101.473911        3435.0       NaN          US      US-KS   \n",
       "2     59.949200    -151.695999         450.0       NaN          US      US-AK   \n",
       "3     34.864799     -86.770302         820.0       NaN          US      US-AL   \n",
       "4     35.608700     -91.254898         237.0       NaN          US      US-AR   \n",
       "\n",
       "   municipality scheduled_service gps_code iata_code local_code home_link  \\\n",
       "0      Bensalem                no      00A       NaN        00A       NaN   \n",
       "1         Leoti                no     00AA       NaN       00AA       NaN   \n",
       "2  Anchor Point                no     00AK       NaN       00AK       NaN   \n",
       "3       Harvest                no     00AL       NaN       00AL       NaN   \n",
       "4       Newport                no      NaN       NaN        NaN       NaN   \n",
       "\n",
       "  wikipedia_link keywords  \n",
       "0            NaN      NaN  \n",
       "1            NaN      NaN  \n",
       "2            NaN      NaN  \n",
       "3            NaN      NaN  \n",
       "4            NaN     00AR  "
      ]
     },
     "execution_count": 101,
     "metadata": {},
     "output_type": "execute_result"
    }
   ],
   "source": [
    "# Read from airports.csv\n",
    "\n",
    "airports = pd.read_csv('/home/sramirez/Descargas/airports.csv')\n",
    "\n",
    "airports.head()"
   ]
  }
 ],
 "metadata": {
  "kernelspec": {
   "display_name": "Python 3",
   "language": "python",
   "name": "python3"
  },
  "language_info": {
   "codemirror_mode": {
    "name": "ipython",
    "version": 3
   },
   "file_extension": ".py",
   "mimetype": "text/x-python",
   "name": "python",
   "nbconvert_exporter": "python",
   "pygments_lexer": "ipython3",
   "version": "3.7.2"
  }
 },
 "nbformat": 4,
 "nbformat_minor": 2
}
